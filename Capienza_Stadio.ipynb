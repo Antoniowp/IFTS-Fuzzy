{
  "nbformat": 4,
  "nbformat_minor": 0,
  "metadata": {
    "colab": {
      "provenance": [],
      "collapsed_sections": [],
      "authorship_tag": "ABX9TyPZDaBXWpqoYbP1nsuzPU0w",
      "include_colab_link": true
    },
    "kernelspec": {
      "name": "python3",
      "display_name": "Python 3"
    },
    "language_info": {
      "name": "python"
    }
  },
  "cells": [
    {
      "cell_type": "markdown",
      "metadata": {
        "id": "view-in-github",
        "colab_type": "text"
      },
      "source": [
        "<a href=\"https://colab.research.google.com/github/Antoniowp/IFTS-Fuzzy/blob/main/Capienza_Stadio.ipynb\" target=\"_parent\"><img src=\"https://colab.research.google.com/assets/colab-badge.svg\" alt=\"Open In Colab\"/></a>"
      ]
    },
    {
      "cell_type": "markdown",
      "source": [
        "Funzione OR e NOT"
      ],
      "metadata": {
        "id": "zcbmWTQIZ3y5"
      }
    },
    {
      "cell_type": "code",
      "execution_count": 1,
      "metadata": {
        "id": "JVHvJyi5Zit7"
      },
      "outputs": [],
      "source": [
        "def or_f(x,y):\n",
        "  return max(x,y)\n",
        "\n",
        "def not_f(x):\n",
        "  return 1-x"
      ]
    },
    {
      "cell_type": "markdown",
      "source": [
        "Svolgimento capienza stadio"
      ],
      "metadata": {
        "id": "1FUkjXoWaFSJ"
      }
    },
    {
      "cell_type": "code",
      "source": [
        "sens_1=float(input('Quanti posti disponibili sul sensore 1: '))\n",
        "sens_2=float(input('Quanti posti disponibili sul sensore 2: '))\n",
        "\n",
        "tot = float(input('Quanti posti totali: '))\n",
        "fuzzy_1=sens_1/tot\n",
        "fuzzy_2=sens_2/tot\n",
        "occupati_stimati = or_f(fuzzy_1,fuzzy_2)\n",
        "disp = not_f(occupati_stimati)\n",
        "\n",
        "print(f'La percentuale di posti disponibili è {disp}')"
      ],
      "metadata": {
        "colab": {
          "base_uri": "https://localhost:8080/"
        },
        "id": "fhC-BZfOaBXZ",
        "outputId": "8c77922e-fa39-4b60-a18e-dc6747d124aa"
      },
      "execution_count": 3,
      "outputs": [
        {
          "output_type": "stream",
          "name": "stdout",
          "text": [
            "Quanti posti disponibili sul sensore 1: 5\n",
            "Quanti posti disponibili sul sensore 2: 3\n",
            "Quanti posti totali: 10\n",
            "La percentuale di posti disponibili è 0.5\n"
          ]
        }
      ]
    }
  ]
}