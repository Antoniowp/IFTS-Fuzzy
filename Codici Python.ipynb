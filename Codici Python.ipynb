{
  "nbformat": 4,
  "nbformat_minor": 0,
  "metadata": {
    "colab": {
      "name": "Untitled1.ipynb",
      "provenance": [],
      "authorship_tag": "ABX9TyMHX5WUNg6mIgKKazgN6mZu",
      "include_colab_link": true
    },
    "kernelspec": {
      "name": "python3",
      "display_name": "Python 3"
    },
    "language_info": {
      "name": "python"
    }
  },
  "cells": [
    {
      "cell_type": "markdown",
      "metadata": {
        "id": "view-in-github",
        "colab_type": "text"
      },
      "source": [
        "<a href=\"https://colab.research.google.com/github/Antoniowp/IFTS-Fuzzy/blob/main/Codici%20Python.ipynb\" target=\"_parent\"><img src=\"https://colab.research.google.com/assets/colab-badge.svg\" alt=\"Open In Colab\"/></a>"
      ]
    },
    {
      "cell_type": "code",
      "execution_count": 2,
      "metadata": {
        "colab": {
          "base_uri": "https://localhost:8080/"
        },
        "id": "VXM0NBdStbxb",
        "outputId": "5430e92b-8e3d-4f7a-b81a-c9ff377ab6ab"
      },
      "outputs": [
        {
          "output_type": "stream",
          "name": "stdout",
          "text": [
            "ciao\n"
          ]
        }
      ],
      "source": [
        "print ('ciao')\n"
      ]
    },
    {
      "cell_type": "code",
      "source": [
        "print ('test')"
      ],
      "metadata": {
        "colab": {
          "base_uri": "https://localhost:8080/"
        },
        "id": "oJ-QJ37YyBlE",
        "outputId": "6e4247c5-fe44-4611-c198-dadb7b3fb271"
      },
      "execution_count": 6,
      "outputs": [
        {
          "output_type": "stream",
          "name": "stdout",
          "text": [
            "test\n"
          ]
        }
      ]
    },
    {
      "cell_type": "code",
      "source": [
        "if 3<4:\n",
        "  print(\"ciao\\n ciao\")"
      ],
      "metadata": {
        "colab": {
          "base_uri": "https://localhost:8080/"
        },
        "id": "WMihf3dk59Eo",
        "outputId": "4de939a1-38ee-4366-dcca-83900b2ca957"
      },
      "execution_count": 14,
      "outputs": [
        {
          "output_type": "stream",
          "name": "stdout",
          "text": [
            "ciao\n",
            " ciao\n"
          ]
        }
      ]
    },
    {
      "cell_type": "code",
      "source": [
        "if int(input(\"inserisci un valore\"))<4:\n",
        "  print(\"ciao\\n ciao\")"
      ],
      "metadata": {
        "colab": {
          "base_uri": "https://localhost:8080/"
        },
        "id": "w2NsqfHd7OFs",
        "outputId": "b3b1b20c-ec74-44cd-8443-016e39cbc73c"
      },
      "execution_count": 24,
      "outputs": [
        {
          "output_type": "stream",
          "name": "stdout",
          "text": [
            "inserisci un valore2\n",
            "ciao\n",
            " ciao\n"
          ]
        }
      ]
    }
  ]
}